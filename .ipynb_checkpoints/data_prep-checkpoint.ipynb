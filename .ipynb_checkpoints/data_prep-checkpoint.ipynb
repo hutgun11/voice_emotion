{
 "cells": [
  {
   "cell_type": "code",
   "execution_count": 111,
   "metadata": {
    "ExecuteTime": {
     "end_time": "2021-03-11T04:25:18.930051Z",
     "start_time": "2021-03-11T04:25:18.911026Z"
    }
   },
   "outputs": [],
   "source": [
    "import matplotlib.pyplot as plt\n",
    "import os\n",
    "import pandas as pd\n",
    "\n",
    "import time\n",
    "import numpy as np\n",
    "import joblib\n",
    "from sklearn.model_selection import train_test_split\n",
    "from sklearn.tree import DecisionTreeClassifier\n",
    "from sklearn.metrics import classification_report,confusion_matrix\n",
    "from sklearn.ensemble import RandomForestClassifier\n",
    "import keras\n",
    "\n",
    "import tensorflow as tf\n",
    "from keras.preprocessing import sequence\n",
    "from keras.models import Sequential\n",
    "from keras.layers import Dense, Embedding\n",
    "from keras.utils import to_categorical\n",
    "from keras.layers import Input, Flatten, Dropout, Activation\n",
    "from keras.layers import Conv1D, MaxPooling1D\n",
    "from keras.models import Model\n",
    "from keras.callbacks import ModelCheckpoint\n",
    "import librosa\n",
    "import shutil\n",
    "import re \n"
   ]
  },
  {
   "cell_type": "code",
   "execution_count": 36,
   "metadata": {
    "ExecuteTime": {
     "end_time": "2021-03-11T03:49:02.646257Z",
     "start_time": "2021-03-11T03:49:02.634258Z"
    }
   },
   "outputs": [],
   "source": [
    "\n",
    "# data, sampling_rate = librosa.load('s001_clip_actor001_impro1_1.wav')"
   ]
  },
  {
   "cell_type": "code",
   "execution_count": 105,
   "metadata": {
    "ExecuteTime": {
     "end_time": "2021-03-11T04:21:53.931359Z",
     "start_time": "2021-03-11T04:21:53.912339Z"
    }
   },
   "outputs": [],
   "source": [
    "# def regex(str_input):\n",
    "#     PATTERN1 = '((actor)[0-9]{1,3})'\n",
    "#     matches = re.findall(PATTERN1, str_input)\n",
    "#     if len(matches) > 0:\n",
    "#         return matches[0][0]\n",
    "\n",
    "    "
   ]
  },
  {
   "cell_type": "code",
   "execution_count": 123,
   "metadata": {
    "ExecuteTime": {
     "end_time": "2021-03-11T04:27:34.440493Z",
     "start_time": "2021-03-11T04:27:34.426493Z"
    }
   },
   "outputs": [
    {
     "data": {
      "text/plain": [
       "'097'"
      ]
     },
     "execution_count": 123,
     "metadata": {},
     "output_type": "execute_result"
    }
   ],
   "source": [
    "# s='s029_clip_actor097_impro7_2.wav'\n",
    "# m = re.search(r\"((actor)[0-9]{1,3})\", s)\n",
    "# m.group().replace('actor','')\n"
   ]
  },
  {
   "cell_type": "code",
   "execution_count": 211,
   "metadata": {
    "ExecuteTime": {
     "end_time": "2021-03-11T04:46:50.051621Z",
     "start_time": "2021-03-11T04:46:50.046621Z"
    }
   },
   "outputs": [],
   "source": [
    "path='total_sound/studio065/'\n",
    "# path ='total_sound/'\n",
    "path_move='dataset/'\n",
    "actor_n1='actor169'\n",
    "actor_n2='actor170'"
   ]
  },
  {
   "cell_type": "code",
   "execution_count": 212,
   "metadata": {
    "ExecuteTime": {
     "end_time": "2021-03-11T04:46:50.544561Z",
     "start_time": "2021-03-11T04:46:50.210993Z"
    }
   },
   "outputs": [],
   "source": [
    "move_file(path,path_move,actor_n1,actor_n2)"
   ]
  },
  {
   "cell_type": "markdown",
   "metadata": {},
   "source": [
    "# data prep"
   ]
  },
  {
   "cell_type": "code",
   "execution_count": 128,
   "metadata": {
    "ExecuteTime": {
     "end_time": "2021-03-11T04:32:16.506420Z",
     "start_time": "2021-03-11T04:32:16.393817Z"
    }
   },
   "outputs": [],
   "source": [
    "def move_file(path,path_move,actor_n1,actor_n2):\n",
    "    for subdir, dirs, files in os.walk(path):\n",
    "        for file in files:\n",
    "            if 'script' in file:\n",
    "                i_class=file[-6]\n",
    "                shutil.move(os.path.join(subdir,file),os.path.join(path_move,file.replace('.wav','')+'_'+str(i_class)+'.wav'))\n",
    "    #             print('i')\n",
    "            elif 'impro1' in file and actor_n1 in file:\n",
    "                shutil.move(os.path.join(subdir,file),os.path.join(path_move,file.replace('.wav','')+'_1.wav'))\n",
    "            elif 'impro1' in file and actor_n2 in file:\n",
    "                shutil.move(os.path.join(subdir,file),os.path.join(path_move,file.replace('.wav','')+'_2.wav'))\n",
    "            elif 'impro2' in file and actor_n1 in file:\n",
    "                shutil.move(os.path.join(subdir,file),os.path.join(path_move,file.replace('.wav','')+'_3.wav'))\n",
    "            elif 'impro2' in file and actor_n2 in file:\n",
    "                shutil.move(os.path.join(subdir,file),os.path.join(path_move,file.replace('.wav','')+'_3.wav'))\n",
    "            elif 'impro3' in file and actor_n1 in file:\n",
    "                shutil.move(os.path.join(subdir,file),os.path.join(path_move,file.replace('.wav','')+'_4.wav'))\n",
    "            elif 'impro3' in file and actor_n2 in file:\n",
    "                shutil.move(os.path.join(subdir,file),os.path.join(path_move,file.replace('.wav','')+'_1.wav'))\n",
    "            elif 'impro4' in file and actor_n1 in file:\n",
    "                shutil.move(os.path.join(subdir,file),os.path.join(path_move,file.replace('.wav','')+'_2.wav'))\n",
    "            elif 'impro4' in file and actor_n2 in file:\n",
    "                shutil.move(os.path.join(subdir,file),os.path.join(path_move,file.replace('.wav','')+'_5.wav'))\n",
    "            elif 'impro5' in file and actor_n1 in file:\n",
    "                shutil.move(os.path.join(subdir,file),os.path.join(path_move,file.replace('.wav','')+'_5.wav'))\n",
    "            elif 'impro5' in file and actor_n2 in file:\n",
    "                shutil.move(os.path.join(subdir,file),os.path.join(path_move,file.replace('.wav','')+'_4.wav'))\n",
    "            elif 'impro6' in file and actor_n1 in file:\n",
    "                shutil.move(os.path.join(subdir,file),os.path.join(path_move,file.replace('.wav','')+'_3.wav'))\n",
    "            elif 'impro6' in file and actor_n2 in file:\n",
    "                shutil.move(os.path.join(subdir,file),os.path.join(path_move,file.replace('.wav','')+'_3.wav'))\n",
    "            elif 'impro7' in file and actor_n1 in file:\n",
    "                shutil.move(os.path.join(subdir,file),os.path.join(path_move,file.replace('.wav','')+'_4.wav'))\n",
    "            elif 'impro7' in file and actor_n2 in file:\n",
    "                shutil.move(os.path.join(subdir,file),os.path.join(path_move,file.replace('.wav','')+'_5.wav'))\n",
    "            elif 'impro8' in file and actor_n1 in file:\n",
    "                shutil.move(os.path.join(subdir,file),os.path.join(path_move,file.replace('.wav','')+'_5.wav'))\n",
    "            elif 'impro8' in file and actor_n2 in file:\n",
    "                shutil.move(os.path.join(subdir,file),os.path.join(path_move,file.replace('.wav','')+'_1.wav'))\n",
    "            elif 'impro9' in file and actor_n1 in file:\n",
    "                shutil.move(os.path.join(subdir,file),os.path.join(path_move,file.replace('.wav','')+'_1.wav'))\n",
    "            elif 'impro9' in file and actor_n2 in file:\n",
    "                shutil.move(os.path.join(subdir,file),os.path.join(path_move,file.replace('.wav','')+'_4.wav'))\n",
    "            elif 'impro10' in file and actor_n1 in file:\n",
    "                shutil.move(os.path.join(subdir,file),os.path.join(path_move,file.replace('.wav','')+'_2.wav'))\n",
    "            elif 'impro10' in file and actor_n2 in file:\n",
    "                shutil.move(os.path.join(subdir,file),os.path.join(path_move,file.replace('.wav','')+'_2.wav'))\n",
    "            elif 'impro11' in file and actor_n1 in file:\n",
    "                shutil.move(os.path.join(subdir,file),os.path.join(path_move,file.replace('.wav','')+'_5.wav'))\n",
    "            elif 'impro11' in file and actor_n2 in file:\n",
    "                shutil.move(os.path.join(subdir,file),os.path.join(path_move,file.replace('.wav','')+'_5.wav'))\n",
    "            elif 'impro12' in file and actor_n1 in file:\n",
    "                shutil.move(os.path.join(subdir,file),os.path.join(path_move,file.replace('.wav','')+'_3.wav'))\n",
    "            elif 'impro12' in file and actor_n2 in file:\n",
    "                shutil.move(os.path.join(subdir,file),os.path.join(path_move,file.replace('.wav','')+'_4.wav'))\n",
    "            elif 'impro13' in file and actor_n1 in file:\n",
    "                shutil.move(os.path.join(subdir,file),os.path.join(path_move,file.replace('.wav','')+'_1.wav'))\n",
    "            elif 'impro13' in file and actor_n2 in file:\n",
    "                shutil.move(os.path.join(subdir,file),os.path.join(path_move,file.replace('.wav','')+'_3.wav'))\n",
    "            elif 'impro14' in file and actor_n1 in file:\n",
    "                shutil.move(os.path.join(subdir,file),os.path.join(path_move,file.replace('.wav','')+'_2.wav'))\n",
    "            elif 'impro14' in file and actor_n2 in file:\n",
    "                shutil.move(os.path.join(subdir,file),os.path.join(path_move,file.replace('.wav','')+'_1.wav'))\n",
    "            elif 'impro15' in file and actor_n1 in file:\n",
    "                shutil.move(os.path.join(subdir,file),os.path.join(path_move,file.replace('.wav','')+'_4.wav'))       \n",
    "            elif 'impro15' in file and actor_n1 in file:\n",
    "                shutil.move(os.path.join(subdir,file),os.path.join(path_move,file.replace('.wav','')+'_2.wav'))  "
   ]
  },
  {
   "cell_type": "code",
   "execution_count": null,
   "metadata": {},
   "outputs": [],
   "source": []
  },
  {
   "cell_type": "code",
   "execution_count": null,
   "metadata": {},
   "outputs": [],
   "source": []
  }
 ],
 "metadata": {
  "kernelspec": {
   "display_name": "Python 3",
   "language": "python",
   "name": "python3"
  },
  "language_info": {
   "codemirror_mode": {
    "name": "ipython",
    "version": 3
   },
   "file_extension": ".py",
   "mimetype": "text/x-python",
   "name": "python",
   "nbconvert_exporter": "python",
   "pygments_lexer": "ipython3",
   "version": "3.7.1"
  }
 },
 "nbformat": 4,
 "nbformat_minor": 2
}
